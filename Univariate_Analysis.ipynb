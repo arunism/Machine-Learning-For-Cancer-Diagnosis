{
 "cells": [
  {
   "cell_type": "markdown",
   "metadata": {},
   "source": [
    "# 5. Univariate Analysis"
   ]
  },
  {
   "cell_type": "markdown",
   "metadata": {},
   "source": [
    "### 5.1 Gene Feature Univariate Analysis"
   ]
  },
  {
   "cell_type": "markdown",
   "metadata": {},
   "source": [
    "Since Gene is a Categorical Feature, we need to convert it to numerical vector. Otherwise, machine learning cannot be applied. So to featurize categorical features there are two popular methods:\n",
    "1. One Hot Encoding\n",
    "2. Response Coding or Mean Value Replacement"
   ]
  },
  {
   "cell_type": "markdown",
   "metadata": {},
   "source": [
    "We will choose appropriate Featurization technique based on Machine Learning model we use. For multi-class calssification with categorical features One Hot Encoding works well for Logistic Regression, Linear Regression, Support Vector Machines while Response Coding works well for Naive Bayes, Random Forest."
   ]
  },
  {
   "cell_type": "code",
   "execution_count": 2,
   "metadata": {},
   "outputs": [],
   "source": [
    "import import_ipynb\n",
    "from Preprocessing import *"
   ]
  },
  {
   "cell_type": "code",
   "execution_count": 3,
   "metadata": {},
   "outputs": [],
   "source": [
    "# Functions for Response Coding with Laplace smoothing.\n",
    "\n",
    "# Get Gene Feature Dictionary\n",
    "def gene_variation_dict(alpha, feature, df):\n",
    "    value_count = x_train[feature].value_counts()\n",
    "    gv_dict = dict()\n",
    "    \n",
    "    for i, denominator in value_count.items():\n",
    "        vec = []\n",
    "        for k in range(1,10):\n",
    "            cls_cnt = x_train.loc[(x_train['Class']==k) & (x_train[feature]==i)]\n",
    "            vec.append((cls_cnt.shape[0] + alpha*10)/ (denominator + 90*alpha))\n",
    "\n",
    "        gv_dict[i]=vec\n",
    "    return gv_dict\n",
    "\n",
    "# Get Gene Feature\n",
    "def gene_variation_feature(alpha, feature, df):\n",
    "    gv_dict = gene_variation_dict(alpha, feature, df)\n",
    "    value_count = x_train[feature].value_counts()\n",
    "    gv_fea = []\n",
    "\n",
    "    for index, row in df.iterrows():\n",
    "        if row[feature] in dict(value_count).keys():\n",
    "            gv_fea.append(gv_dict[row[feature]])\n",
    "        else:\n",
    "            gv_fea.append([1/9,1/9,1/9,1/9,1/9,1/9,1/9,1/9,1/9])  \n",
    "    return gv_fea"
   ]
  },
  {
   "cell_type": "code",
   "execution_count": 4,
   "metadata": {},
   "outputs": [
    {
     "name": "stdout",
     "output_type": "stream",
     "text": [
      "Number of Unique Genes in Train Data : 229\n",
      "BRCA1    164\n",
      "TP53      98\n",
      "EGFR      96\n",
      "BRCA2     81\n",
      "PTEN      77\n",
      "Name: Gene, dtype: int64\n"
     ]
    }
   ],
   "source": [
    "unique_genes = x_train['Gene'].value_counts()\n",
    "print('Number of Unique Genes in Train Data :', unique_genes.shape[0])\n",
    "print(unique_genes.head())       # Top frequently occuring genes"
   ]
  },
  {
   "cell_type": "code",
   "execution_count": 5,
   "metadata": {},
   "outputs": [
    {
     "data": {
      "image/png": "[encoded data removed]",
      "text/plain": [
       "<Figure size 432x288 with 1 Axes>"
      ]
     },
     "metadata": {
      "needs_background": "light"
     },
     "output_type": "display_data"
    }
   ],
   "source": [
    "s = sum(unique_genes.values);\n",
    "h = unique_genes.values/s;\n",
    "plt.plot(h, label=\"Histrogram of Genes\")\n",
    "plt.xlabel('Index of a Gene')\n",
    "plt.ylabel('Number of Occurances')\n",
    "plt.legend()\n",
    "plt.grid()\n",
    "plt.show()"
   ]
  },
  {
   "cell_type": "code",
   "execution_count": 6,
   "metadata": {},
   "outputs": [
    {
     "data": {
      "image/png": "[encoded data removed]",
      "text/plain": [
       "<Figure size 432x288 with 1 Axes>"
      ]
     },
     "metadata": {
      "needs_background": "light"
     },
     "output_type": "display_data"
    }
   ],
   "source": [
    "c = np.cumsum(h)\n",
    "plt.plot(c,label='Cumulative distribution of Genes')\n",
    "plt.grid()\n",
    "plt.legend()\n",
    "plt.show()"
   ]
  },
  {
   "cell_type": "markdown",
   "metadata": {},
   "source": [
    "From the cumulative distribution graph of genes we see that the first 50 genes contribute almost 75% of the total categories."
   ]
  },
  {
   "cell_type": "markdown",
   "metadata": {},
   "source": [
    "#### 5.1.1 Response Coding of the Gene feature"
   ]
  },
  {
   "cell_type": "code",
   "execution_count": 7,
   "metadata": {},
   "outputs": [],
   "source": [
    "# alpha is used for laplace smoothing\n",
    "\n",
    "alpha = 1\n",
    "train_gene_feature_responseCoding = np.array(gene_variation_feature(alpha, \"Gene\", x_train))    # train gene feature\n",
    "test_gene_feature_responseCoding = np.array(gene_variation_feature(alpha, \"Gene\", x_test))      # test gene feature\n",
    "cv_gene_feature_responseCoding = np.array(gene_variation_feature(alpha, \"Gene\", x_cv))          # cross validation gene feature"
   ]
  },
  {
   "cell_type": "code",
   "execution_count": 8,
   "metadata": {},
   "outputs": [
    {
     "name": "stdout",
     "output_type": "stream",
     "text": [
      "train_gene_feature_responseCoding is converted feature using respone coding method.\n",
      "The shape of gene feature: (2124, 9)\n"
     ]
    }
   ],
   "source": [
    "print(\"train_gene_feature_responseCoding is converted feature using respone coding method.\")\n",
    "print(\"The shape of gene feature:\", train_gene_feature_responseCoding.shape)"
   ]
  },
  {
   "cell_type": "markdown",
   "metadata": {},
   "source": [
    "#### 5.1.2 One hot Enoding of the Gene feature"
   ]
  },
  {
   "cell_type": "code",
   "execution_count": 9,
   "metadata": {},
   "outputs": [],
   "source": [
    "from sklearn.feature_extraction.text import CountVectorizer"
   ]
  },
  {
   "cell_type": "code",
   "execution_count": 10,
   "metadata": {},
   "outputs": [],
   "source": [
    "gene_vectorizer = CountVectorizer()\n",
    "train_gene_feature_onehotCoding = gene_vectorizer.fit_transform(x_train['Gene'])\n",
    "test_gene_feature_onehotCoding = gene_vectorizer.transform(x_test['Gene'])\n",
    "cv_gene_feature_onehotCoding = gene_vectorizer.transform(x_cv['Gene'])"
   ]
  },
  {
   "cell_type": "code",
   "execution_count": 11,
   "metadata": {},
   "outputs": [
    {
     "data": {
      "text/plain": [
       "805     ERCC2\n",
       "2832    BRCA2\n",
       "605     SMAD4\n",
       "869     HLA-A\n",
       "2858    BRCA2\n",
       "Name: Gene, dtype: object"
      ]
     },
     "execution_count": 11,
     "metadata": {},
     "output_type": "execute_result"
    }
   ],
   "source": [
    "x_train['Gene'].head()"
   ]
  },
  {
   "cell_type": "code",
   "execution_count": 12,
   "metadata": {},
   "outputs": [
    {
     "name": "stdout",
     "output_type": "stream",
     "text": [
      "train_gene_feature_onehotCoding is converted feature using one-hot encoding method.\n",
      "The shape of gene feature: (2124, 228)\n"
     ]
    }
   ],
   "source": [
    "print(\"train_gene_feature_onehotCoding is converted feature using one-hot encoding method.\")\n",
    "print(\"The shape of gene feature:\", train_gene_feature_onehotCoding.shape)"
   ]
  },
  {
   "cell_type": "code",
   "execution_count": 13,
   "metadata": {},
   "outputs": [],
   "source": [
    "from sklearn.linear_model import SGDClassifier\n",
    "from sklearn.calibration import CalibratedClassifierCV"
   ]
  },
  {
   "cell_type": "code",
   "execution_count": 14,
   "metadata": {},
   "outputs": [
    {
     "name": "stdout",
     "output_type": "stream",
     "text": [
      "For values of alpha =  1e-05 The log loss is: 1.2115772481508051\n",
      "For values of alpha =  0.0001 The log loss is: 1.19088227899019\n",
      "For values of alpha =  0.001 The log loss is: 1.2368675102752964\n",
      "For values of alpha =  0.01 The log loss is: 1.3572223671360073\n",
      "For values of alpha =  0.1 The log loss is: 1.460309802778397\n",
      "For values of alpha =  1 The log loss is: 1.4985820220768058\n"
     ]
    },
    {
     "data": {
      "image/png": "[encoded data removed]",
      "text/plain": [
       "<Figure size 432x288 with 1 Axes>"
      ]
     },
     "metadata": {
      "needs_background": "light"
     },
     "output_type": "display_data"
    },
    {
     "name": "stdout",
     "output_type": "stream",
     "text": [
      "For values of best alpha =  0.0001 The train log loss is: 0.9750381264735285\n",
      "For values of best alpha =  0.0001 The cross validation log loss is: 1.19088227899019\n",
      "For values of best alpha =  0.0001 The test log loss is: 1.2305905609360253\n"
     ]
    }
   ],
   "source": [
    "alpha = [10 ** x for x in range(-5, 1)]      # Hyperparameter for SGD classifier.\n",
    "\n",
    "cv_log_error_array=[]\n",
    "for i in alpha:\n",
    "    clf = SGDClassifier(alpha=i, penalty='l2', loss='log', random_state=42)\n",
    "    clf.fit(train_gene_feature_onehotCoding, y_train)\n",
    "    sig_clf = CalibratedClassifierCV(clf, method=\"sigmoid\")\n",
    "    sig_clf.fit(train_gene_feature_onehotCoding, y_train)\n",
    "    predict_y = sig_clf.predict_proba(cv_gene_feature_onehotCoding)\n",
    "    cv_log_error_array.append(log_loss(y_cv, predict_y, labels=clf.classes_, eps=1e-15))\n",
    "    print('For values of alpha = ', i, \"The log loss is:\",log_loss(y_cv, predict_y, labels=clf.classes_, eps=1e-15))\n",
    "\n",
    "fig, ax = plt.subplots()\n",
    "ax.plot(alpha, cv_log_error_array,c='g')\n",
    "for i, txt in enumerate(np.round(cv_log_error_array,3)):\n",
    "    ax.annotate((alpha[i],np.round(txt,3)), (alpha[i],cv_log_error_array[i]))\n",
    "plt.grid()\n",
    "plt.title(\"Cross Validation Error for each alpha\")\n",
    "plt.xlabel(\"Alpha i's\")\n",
    "plt.ylabel(\"Error measure\")\n",
    "plt.show()\n",
    "\n",
    "\n",
    "best_alpha = np.argmin(cv_log_error_array)\n",
    "clf = SGDClassifier(alpha=alpha[best_alpha], penalty='l2', loss='log', random_state=42)\n",
    "clf.fit(train_gene_feature_onehotCoding, y_train)\n",
    "sig_clf = CalibratedClassifierCV(clf, method=\"sigmoid\")\n",
    "sig_clf.fit(train_gene_feature_onehotCoding, y_train)\n",
    "\n",
    "predict_y = sig_clf.predict_proba(train_gene_feature_onehotCoding)\n",
    "print('For values of best alpha = ', alpha[best_alpha], \"The train log loss is:\",log_loss(y_train, predict_y, labels=clf.classes_, eps=1e-15))\n",
    "predict_y = sig_clf.predict_proba(cv_gene_feature_onehotCoding)\n",
    "print('For values of best alpha = ', alpha[best_alpha], \"The cross validation log loss is:\",log_loss(y_cv, predict_y, labels=clf.classes_, eps=1e-15))\n",
    "predict_y = sig_clf.predict_proba(test_gene_feature_onehotCoding)\n",
    "print('For values of best alpha = ', alpha[best_alpha], \"The test log loss is:\",log_loss(y_test, predict_y, labels=clf.classes_, eps=1e-15))"
   ]
  },
  {
   "cell_type": "markdown",
   "metadata": {},
   "source": [
    "Since the Train, Cross-Validation and Test errors, using only the Gene Feature, are less than the log-loss of the random model, Gene Feature is an important feature. And since the Cross-Validation and Test errors are almost same as the Train errors, this model is quite stable (i.e. we are not overfitting the model)."
   ]
  },
  {
   "cell_type": "code",
   "execution_count": 15,
   "metadata": {},
   "outputs": [
    {
     "name": "stdout",
     "output_type": "stream",
     "text": [
      "How many data points in Test and CV datasets are covered by the  229  genes in train dataset?\n",
      "Ans\n",
      "1. In test data 636 out of 665 : 95.6390977443609 %\n",
      "2. In cross validation data 509 out of  532 : 95.67669172932331 %\n"
     ]
    }
   ],
   "source": [
    "print(\"How many data points in Test and CV datasets are covered by the \", unique_genes.shape[0], \" genes in train dataset?\")\n",
    "\n",
    "test_coverage = x_test[x_test['Gene'].isin(list(set(x_train['Gene'])))].shape[0]\n",
    "cv_coverage = x_cv[x_cv['Gene'].isin(list(set(x_train['Gene'])))].shape[0]\n",
    "\n",
    "print('Ans\\n1. In test data',test_coverage, 'out of', x_test.shape[0], \":\", (test_coverage/x_test.shape[0])*100, \"%\")\n",
    "print('2. In cross validation data',cv_coverage, 'out of ', x_cv.shape[0],\":\" , (cv_coverage/x_cv.shape[0])*100, \"%\")"
   ]
  },
  {
   "cell_type": "markdown",
   "metadata": {},
   "source": [
    "### 5.2 Variation/Mutation Feature Univariate Analysis"
   ]
  },
  {
   "cell_type": "markdown",
   "metadata": {},
   "source": [
    "Since Variation is also a Categorical Feature, we need to convert it to numerical vector. Otherwise, machine learning cannot be applied."
   ]
  },
  {
   "cell_type": "code",
   "execution_count": 16,
   "metadata": {},
   "outputs": [
    {
     "name": "stdout",
     "output_type": "stream",
     "text": [
      "Number of Unique Variations in Train Data : 1928\n",
      "Truncating Mutations    64\n",
      "Deletion                50\n",
      "Amplification           38\n",
      "Fusions                 19\n",
      "Overexpression           4\n",
      "Name: Variation, dtype: int64\n"
     ]
    }
   ],
   "source": [
    "unique_variations = x_train['Variation'].value_counts()\n",
    "print('Number of Unique Variations in Train Data :', unique_variations.shape[0])\n",
    "print(unique_variations.head())                  # Top frequently occuring variations"
   ]
  },
  {
   "cell_type": "code",
   "execution_count": 17,
   "metadata": {},
   "outputs": [
    {
     "data": {
      "image/png": "[encoded data removed]",
      "text/plain": [
       "<Figure size 432x288 with 1 Axes>"
      ]
     },
     "metadata": {
      "needs_background": "light"
     },
     "output_type": "display_data"
    }
   ],
   "source": [
    "s = sum(unique_variations.values);\n",
    "h = unique_variations.values/s;\n",
    "plt.plot(h, label=\"Histrogram of Variations\")\n",
    "plt.xlabel('Index of a Variation')\n",
    "plt.ylabel('Number of Occurances')\n",
    "plt.legend()\n",
    "plt.grid()\n",
    "plt.show()"
   ]
  },
  {
   "cell_type": "code",
   "execution_count": 18,
   "metadata": {},
   "outputs": [
    {
     "data": {
      "image/png": "[encoded data removed]",
      "text/plain": [
       "<Figure size 432x288 with 1 Axes>"
      ]
     },
     "metadata": {
      "needs_background": "light"
     },
     "output_type": "display_data"
    }
   ],
   "source": [
    "c = np.cumsum(h)\n",
    "plt.plot(c,label='Cumulative distribution of Variations')\n",
    "plt.grid()\n",
    "plt.legend()\n",
    "plt.show()"
   ]
  },
  {
   "cell_type": "markdown",
   "metadata": {},
   "source": [
    "From the Histogram of variations we see that the most of the variations occur twice or thrice (least number of times)."
   ]
  },
  {
   "cell_type": "markdown",
   "metadata": {},
   "source": [
    "#### 5.2.1 Response Coding of the Variation feature"
   ]
  },
  {
   "cell_type": "code",
   "execution_count": 19,
   "metadata": {},
   "outputs": [],
   "source": [
    "# alpha is used for laplace smoothing\n",
    "\n",
    "alpha = 1\n",
    "train_variation_feature_responseCoding = np.array(gene_variation_feature(alpha, \"Variation\", x_train))    # train variation feature\n",
    "test_variation_feature_responseCoding = np.array(gene_variation_feature(alpha, \"Variation\", x_test))      # test variation feature\n",
    "cv_variation_feature_responseCoding = np.array(gene_variation_feature(alpha, \"Variation\", x_cv))          # cross validation variation feature"
   ]
  },
  {
   "cell_type": "code",
   "execution_count": 20,
   "metadata": {},
   "outputs": [
    {
     "name": "stdout",
     "output_type": "stream",
     "text": [
      "train_variation_feature_responseCoding is converted feature using respone coding method.\n",
      "The shape of variation feature: (2124, 9)\n"
     ]
    }
   ],
   "source": [
    "print(\"train_variation_feature_responseCoding is converted feature using respone coding method.\")\n",
    "print(\"The shape of variation feature:\", train_variation_feature_responseCoding.shape)"
   ]
  },
  {
   "cell_type": "markdown",
   "metadata": {},
   "source": [
    "#### 5.2.2 One hot Enoding of the Variation feature"
   ]
  },
  {
   "cell_type": "code",
   "execution_count": 21,
   "metadata": {},
   "outputs": [],
   "source": [
    "variation_vectorizer = CountVectorizer()\n",
    "train_variation_feature_onehotCoding = variation_vectorizer.fit_transform(x_train['Variation'])\n",
    "test_variation_feature_onehotCoding = variation_vectorizer.transform(x_test['Variation'])\n",
    "cv_variation_feature_onehotCoding = variation_vectorizer.transform(x_cv['Variation'])"
   ]
  },
  {
   "cell_type": "code",
   "execution_count": 22,
   "metadata": {},
   "outputs": [
    {
     "data": {
      "text/plain": [
       "805                    A717G\n",
       "2832                   N588D\n",
       "605                    D351H\n",
       "869     Truncating Mutations\n",
       "2858                  D2665G\n",
       "Name: Variation, dtype: object"
      ]
     },
     "execution_count": 22,
     "metadata": {},
     "output_type": "execute_result"
    }
   ],
   "source": [
    "x_train['Variation'].head()"
   ]
  },
  {
   "cell_type": "code",
   "execution_count": 23,
   "metadata": {},
   "outputs": [
    {
     "name": "stdout",
     "output_type": "stream",
     "text": [
      "train_variation_feature_onehotCoding is converted feature using one-hot encoding method.\n",
      "The shape of variation feature: (2124, 1958)\n"
     ]
    }
   ],
   "source": [
    "print(\"train_variation_feature_onehotCoding is converted feature using one-hot encoding method.\")\n",
    "print(\"The shape of variation feature:\", train_variation_feature_onehotCoding.shape)"
   ]
  },
  {
   "cell_type": "code",
   "execution_count": 24,
   "metadata": {},
   "outputs": [
    {
     "name": "stdout",
     "output_type": "stream",
     "text": [
      "For values of alpha =  1e-05 The log loss is: 1.7211972790499364\n",
      "For values of alpha =  0.0001 The log loss is: 1.7137559911106484\n",
      "For values of alpha =  0.001 The log loss is: 1.7186393949509091\n",
      "For values of alpha =  0.01 The log loss is: 1.7318626830070882\n",
      "For values of alpha =  0.1 The log loss is: 1.74891540241752\n",
      "For values of alpha =  1 The log loss is: 1.7497345933390887\n"
     ]
    },
    {
     "data": {
      "image/png": "[encoded data removed]",
      "text/plain": [
       "<Figure size 432x288 with 1 Axes>"
      ]
     },
     "metadata": {
      "needs_background": "light"
     },
     "output_type": "display_data"
    },
    {
     "name": "stdout",
     "output_type": "stream",
     "text": [
      "For values of best alpha =  0.0001 The train log loss is: 0.6790300796200863\n",
      "For values of best alpha =  0.0001 The cross validation log loss is: 1.7137559911106484\n",
      "For values of best alpha =  0.0001 The test log loss is: 1.714376243380602\n"
     ]
    }
   ],
   "source": [
    "alpha = [10 ** x for x in range(-5, 1)]      # Hyperparameter for SGD classifier.\n",
    "\n",
    "cv_log_error_array=[]\n",
    "for i in alpha:\n",
    "    clf = SGDClassifier(alpha=i, penalty='l2', loss='log', random_state=42)\n",
    "    clf.fit(train_variation_feature_onehotCoding, y_train)\n",
    "    sig_clf = CalibratedClassifierCV(clf, method=\"sigmoid\")\n",
    "    sig_clf.fit(train_variation_feature_onehotCoding, y_train)\n",
    "    predict_y = sig_clf.predict_proba(cv_variation_feature_onehotCoding)\n",
    "    cv_log_error_array.append(log_loss(y_cv, predict_y, labels=clf.classes_, eps=1e-15))\n",
    "    print('For values of alpha = ', i, \"The log loss is:\",log_loss(y_cv, predict_y, labels=clf.classes_, eps=1e-15))\n",
    "\n",
    "fig, ax = plt.subplots()\n",
    "ax.plot(alpha, cv_log_error_array,c='g')\n",
    "for i, txt in enumerate(np.round(cv_log_error_array,3)):\n",
    "    ax.annotate((alpha[i],np.round(txt,3)), (alpha[i],cv_log_error_array[i]))\n",
    "plt.grid()\n",
    "plt.title(\"Cross Validation Error for each alpha\")\n",
    "plt.xlabel(\"Alpha i's\")\n",
    "plt.ylabel(\"Error measure\")\n",
    "plt.show()\n",
    "\n",
    "\n",
    "best_alpha = np.argmin(cv_log_error_array)\n",
    "clf = SGDClassifier(alpha=alpha[best_alpha], penalty='l2', loss='log', random_state=42)\n",
    "clf.fit(train_variation_feature_onehotCoding, y_train)\n",
    "sig_clf = CalibratedClassifierCV(clf, method=\"sigmoid\")\n",
    "sig_clf.fit(train_variation_feature_onehotCoding, y_train)\n",
    "\n",
    "predict_y = sig_clf.predict_proba(train_variation_feature_onehotCoding)\n",
    "print('For values of best alpha = ', alpha[best_alpha], \"The train log loss is:\",log_loss(y_train, predict_y, labels=clf.classes_, eps=1e-15))\n",
    "predict_y = sig_clf.predict_proba(cv_variation_feature_onehotCoding)\n",
    "print('For values of best alpha = ', alpha[best_alpha], \"The cross validation log loss is:\",log_loss(y_cv, predict_y, labels=clf.classes_, eps=1e-15))\n",
    "predict_y = sig_clf.predict_proba(test_variation_feature_onehotCoding)\n",
    "print('For values of best alpha = ', alpha[best_alpha], \"The test log loss is:\",log_loss(y_test, predict_y, labels=clf.classes_, eps=1e-15))\n"
   ]
  },
  {
   "cell_type": "markdown",
   "metadata": {},
   "source": [
    "The Train, Cross-Validation and Test errors, using only the Variation Feature, are less than the log-loss of the random model, Variation Feature is an important feature. And since the Cross-Validation and Test errors are quite separate from the Train errors, this model may be unstable (i.e. we are overfitting the model). But we cannot be sure from this result. So lets be sure by perfo"
   ]
  },
  {
   "cell_type": "code",
   "execution_count": 25,
   "metadata": {},
   "outputs": [
    {
     "name": "stdout",
     "output_type": "stream",
     "text": [
      "How many data points in Test and CV datasets are covered by the  1928  variations in train dataset?\n",
      "\n",
      "1. In test data 71 out of 665 : 10.676691729323307 %\n",
      "2. In cross validation data 51 out of  532 : 9.586466165413533 %\n"
     ]
    }
   ],
   "source": [
    "print(\"How many data points in Test and CV datasets are covered by the \", unique_variations.shape[0], \" variations in train dataset?\")\n",
    "\n",
    "test_coverage = x_test[x_test['Variation'].isin(list(set(x_train['Variation'])))].shape[0]\n",
    "cv_coverage = x_cv[x_cv['Variation'].isin(list(set(x_train['Variation'])))].shape[0]\n",
    "\n",
    "print('\\n1. In test data',test_coverage, 'out of', x_test.shape[0], \":\", (test_coverage/x_test.shape[0])*100, \"%\")\n",
    "print('2. In cross validation data',cv_coverage, 'out of ', x_cv.shape[0],\":\" , (cv_coverage/x_cv.shape[0])*100, \"%\")"
   ]
  },
  {
   "cell_type": "markdown",
   "metadata": {},
   "source": [
    "Of the total points present in the train data, only 10% (roughly) data points are present in the test and cross-validation data. So the system is unstable. To prevent overfitting of the model, we need to work well on the Variation Feature."
   ]
  },
  {
   "cell_type": "markdown",
   "metadata": {},
   "source": [
    "### 5.3 Text Feature Univariate Analysis"
   ]
  },
  {
   "cell_type": "markdown",
   "metadata": {},
   "source": [
    "Here, cls_text is a dataframe. For every row in dataframe, we consider the 'TEXT' and split the words by space. Then we will make a dictionary with those words and increase its count whenever we see that word."
   ]
  },
  {
   "cell_type": "code",
   "execution_count": 26,
   "metadata": {},
   "outputs": [],
   "source": [
    "def extract_dictionary_paddle(cls_text):\n",
    "    dictionary = defaultdict(int)\n",
    "    for index, row in cls_text.iterrows():\n",
    "        for word in row['Text'].split():\n",
    "            dictionary[word] +=1\n",
    "    return dictionary"
   ]
  },
  {
   "cell_type": "markdown",
   "metadata": {},
   "source": [
    "#### 5.3.1 Response Coding of the Text feature"
   ]
  },
  {
   "cell_type": "code",
   "execution_count": 27,
   "metadata": {},
   "outputs": [],
   "source": [
    "import math\n",
    "from sklearn.preprocessing import normalize\n",
    "from collections import Counter, defaultdict"
   ]
  },
  {
   "cell_type": "code",
   "execution_count": 28,
   "metadata": {},
   "outputs": [],
   "source": [
    "def get_text_responsecoding(df):\n",
    "    text_feature_responseCoding = np.zeros((df.shape[0],9))\n",
    "    for i in range(0,9):\n",
    "        row_index = 0\n",
    "        for index, row in df.iterrows():\n",
    "            sum_prob = 0\n",
    "            for word in row['Text'].split():\n",
    "                sum_prob += math.log(((dict_list[i].get(word,0)+10 )/(total_dict.get(word,0)+90)))\n",
    "            text_feature_responseCoding[row_index][i] = math.exp(sum_prob/len(row['Text'].split()))\n",
    "            row_index += 1\n",
    "    return text_feature_responseCoding"
   ]
  },
  {
   "cell_type": "code",
   "execution_count": 29,
   "metadata": {},
   "outputs": [
    {
     "name": "stdout",
     "output_type": "stream",
     "text": [
      "Number of Unique Words in Train Data: 53818\n"
     ]
    }
   ],
   "source": [
    "text_vectorizer = CountVectorizer(min_df=3)                                      # Take only those words that occured at least 3 times\n",
    "train_text_feature_onehotCoding = text_vectorizer.fit_transform(x_train['Text'])\n",
    "train_text_features= text_vectorizer.get_feature_names()                         # Get all the feature names (words)\n",
    "train_text_fea_counts = train_text_feature_onehotCoding.sum(axis=0).A1           # sum every row and returns (1*number of features) vector\n",
    "text_fea_dict = dict(zip(list(train_text_features),train_text_fea_counts))       # Zip a word with number of times it occured\n",
    "\n",
    "print(\"Number of Unique Words in Train Data:\", len(train_text_features))"
   ]
  },
  {
   "cell_type": "code",
   "execution_count": 30,
   "metadata": {},
   "outputs": [],
   "source": [
    "dict_list = []                     # dict_list contains 9 dictoinaries each corresponds to a class\n",
    "for i in range(1,10):\n",
    "    cls_text = x_train[x_train['Class']==i]                # Build a word dict based on the words in that class\n",
    "    dict_list.append(extract_dictionary_paddle(cls_text))  # Append it to dict_list\n",
    "\n",
    "# dict_list[i] is build on i'th  class text data\n",
    "# total_dict is buid on whole training text data\n",
    "total_dict = extract_dictionary_paddle(x_train)\n",
    "\n",
    "confuse_array = []\n",
    "for i in train_text_features:\n",
    "    ratios = []\n",
    "    max_val = -1\n",
    "    for j in range(0,9):\n",
    "        ratios.append((dict_list[j][i]+10 )/(total_dict[i]+90))\n",
    "    confuse_array.append(ratios)\n",
    "confuse_array = np.array(confuse_array)"
   ]
  },
  {
   "cell_type": "code",
   "execution_count": 31,
   "metadata": {},
   "outputs": [],
   "source": [
    "#response coding of text features\n",
    "train_text_feature_responseCoding  = get_text_responsecoding(x_train)\n",
    "test_text_feature_responseCoding  = get_text_responsecoding(x_test)\n",
    "cv_text_feature_responseCoding  = get_text_responsecoding(x_cv)"
   ]
  },
  {
   "cell_type": "markdown",
   "metadata": {},
   "source": [
    "Now lets normalize the result to convert each row values such that they sum to 1"
   ]
  },
  {
   "cell_type": "code",
   "execution_count": 32,
   "metadata": {},
   "outputs": [],
   "source": [
    "train_text_feature_responseCoding = (train_text_feature_responseCoding.T/train_text_feature_responseCoding.sum(axis=1)).T\n",
    "test_text_feature_responseCoding = (test_text_feature_responseCoding.T/test_text_feature_responseCoding.sum(axis=1)).T\n",
    "cv_text_feature_responseCoding = (cv_text_feature_responseCoding.T/cv_text_feature_responseCoding.sum(axis=1)).T"
   ]
  },
  {
   "cell_type": "markdown",
   "metadata": {},
   "source": [
    "#### 5.3.2 One Hot Encoding of the Text feature"
   ]
  },
  {
   "cell_type": "code",
   "execution_count": 33,
   "metadata": {},
   "outputs": [],
   "source": [
    "train_text_feature_onehotCoding = normalize(train_text_feature_onehotCoding, axis=0)\n",
    "test_text_feature_onehotCoding = text_vectorizer.transform(x_test['Text'])\n",
    "test_text_feature_onehotCoding = normalize(test_text_feature_onehotCoding, axis=0)   # Normalize every feature\n",
    "\n",
    "cv_text_feature_onehotCoding = text_vectorizer.transform(x_cv['Text'])\n",
    "cv_text_feature_onehotCoding = normalize(cv_text_feature_onehotCoding, axis=0)       # Normalize every feature"
   ]
  },
  {
   "cell_type": "code",
   "execution_count": 34,
   "metadata": {},
   "outputs": [
    {
     "name": "stdout",
     "output_type": "stream",
     "text": [
      "Counter({3: 4928, 4: 3900, 5: 3155, 6: 2953, 8: 1962, 10: 1850, 7: 1743, 9: 1710, 12: 1373, 11: 1035, 15: 976, 13: 972, 14: 848, 16: 773, 17: 743, 18: 700, 20: 630, 21: 585, 24: 522, 19: 483, 22: 447, 30: 427, 27: 413, 28: 398, 25: 380, 23: 371, 26: 339, 43: 337, 32: 302, 29: 289, 36: 274, 49: 270, 33: 270, 31: 250, 42: 246, 40: 246, 44: 236, 34: 236, 39: 220, 35: 213, 38: 205, 37: 202, 47: 192, 41: 192, 45: 182, 50: 175, 48: 165, 46: 155, 60: 153, 54: 151, 51: 146, 59: 145, 52: 141, 57: 135, 56: 126, 53: 124, 63: 123, 66: 120, 88: 119, 55: 118, 64: 114, 61: 109, 58: 109, 65: 106, 72: 105, 69: 105, 68: 101, 62: 95, 78: 92, 73: 91, 80: 89, 84: 85, 67: 82, 74: 81, 70: 80, 77: 78, 76: 78, 79: 76, 91: 75, 81: 75, 105: 73, 98: 72, 71: 72, 89: 70, 75: 70, 82: 69, 92: 67, 90: 67, 85: 66, 83: 66, 97: 62, 93: 62, 87: 62, 100: 57, 94: 57, 112: 55, 86: 55, 96: 54, 117: 52, 120: 51, 106: 51, 102: 51, 132: 50, 115: 50, 111: 50, 110: 50, 99: 50, 113: 49, 103: 49, 131: 48, 124: 48, 133: 47, 123: 47, 95: 46, 118: 45, 104: 45, 142: 43, 126: 43, 119: 43, 108: 43, 139: 42, 107: 41, 101: 41, 134: 40, 122: 40, 114: 40, 145: 38, 165: 37, 147: 37, 125: 37, 144: 36, 136: 36, 128: 36, 121: 35, 196: 34, 158: 34, 143: 34, 140: 34, 146: 33, 138: 33, 188: 32, 161: 32, 137: 32, 173: 31, 168: 31, 109: 31, 232: 30, 163: 30, 157: 30, 150: 30, 141: 30, 129: 30, 130: 29, 174: 28, 160: 28, 154: 28, 127: 28, 186: 27, 206: 26, 116: 26, 218: 25, 213: 25, 159: 25, 155: 25, 153: 25, 151: 25, 148: 25, 211: 24, 183: 24, 180: 24, 177: 24, 172: 24, 162: 24, 260: 23, 244: 23, 205: 23, 166: 23, 156: 23, 149: 23, 242: 22, 216: 22, 209: 22, 193: 22, 181: 22, 169: 22, 164: 22, 152: 22, 135: 22, 249: 21, 241: 21, 185: 21, 184: 21, 171: 21, 170: 21, 287: 20, 256: 20, 253: 20, 228: 20, 226: 20, 215: 20, 212: 20, 207: 20, 189: 20, 187: 20, 175: 20, 251: 19, 237: 19, 222: 19, 204: 19, 202: 19, 201: 19, 198: 19, 182: 19, 178: 19, 176: 19, 167: 19, 234: 18, 220: 18, 195: 18, 192: 18, 179: 18, 327: 17, 280: 17, 269: 17, 267: 17, 230: 17, 203: 17, 200: 17, 197: 17, 191: 17, 190: 17, 334: 16, 315: 16, 266: 16, 252: 16, 229: 16, 225: 16, 221: 16, 370: 15, 351: 15, 324: 15, 307: 15, 282: 15, 281: 15, 278: 15, 270: 15, 263: 15, 247: 15, 245: 15, 240: 15, 219: 15, 199: 15, 308: 14, 306: 14, 296: 14, 293: 14, 274: 14, 271: 14, 262: 14, 224: 14, 214: 14, 210: 14, 208: 14, 426: 13, 368: 13, 359: 13, 320: 13, 299: 13, 288: 13, 265: 13, 257: 13, 254: 13, 236: 13, 231: 13, 194: 13, 365: 12, 344: 12, 329: 12, 309: 12, 302: 12, 292: 12, 291: 12, 286: 12, 261: 12, 259: 12, 258: 12, 238: 12, 233: 12, 223: 12, 217: 12, 471: 11, 467: 11, 456: 11, 403: 11, 377: 11, 364: 11, 338: 11, 332: 11, 321: 11, 313: 11, 305: 11, 298: 11, 294: 11, 264: 11, 250: 11, 243: 11, 239: 11, 227: 11, 461: 10, 451: 10, 434: 10, 414: 10, 392: 10, 389: 10, 358: 10, 349: 10, 346: 10, 345: 10, 317: 10, 316: 10, 312: 10, 300: 10, 277: 10, 275: 10, 273: 10, 248: 10, 481: 9, 453: 9, 429: 9, 418: 9, 417: 9, 399: 9, 397: 9, 387: 9, 381: 9, 380: 9, 379: 9, 376: 9, 375: 9, 366: 9, 360: 9, 343: 9, 339: 9, 331: 9, 330: 9, 328: 9, 304: 9, 295: 9, 290: 9, 289: 9, 285: 9, 283: 9, 279: 9, 276: 9, 272: 9, 255: 9, 246: 9, 235: 9, 632: 8, 518: 8, 497: 8, 494: 8, 483: 8, 482: 8, 447: 8, 438: 8, 430: 8, 419: 8, 401: 8, 400: 8, 393: 8, 390: 8, 378: 8, 369: 8, 363: 8, 355: 8, 354: 8, 353: 8, 350: 8, 348: 8, 341: 8, 336: 8, 335: 8, 326: 8, 325: 8, 323: 8, 314: 8, 284: 8, 1083: 7, 695: 7, 684: 7, 663: 7, 628: 7, 598: 7, 576: 7, 572: 7, 543: 7, 539: 7, 538: 7, 532: 7, 521: 7, 512: 7, 503: 7, 470: 7, 466: 7, 450: 7, 446: 7, 440: 7, 437: 7, 436: 7, 425: 7, 413: 7, 404: 7, 395: 7, 388: 7, 386: 7, 383: 7, 342: 7, 340: 7, 322: 7, 310: 7, 297: 7, 1331: 6, 1212: 6, 976: 6, 781: 6, 765: 6, 750: 6, 740: 6, 708: 6, 675: 6, 641: 6, 637: 6, 636: 6, 631: 6, 625: 6, 573: 6, 571: 6, 570: 6, 566: 6, 548: 6, 540: 6, 529: 6, 526: 6, 519: 6, 515: 6, 505: 6, 502: 6, 485: 6, 476: 6, 472: 6, 468: 6, 464: 6, 462: 6, 458: 6, 431: 6, 428: 6, 424: 6, 410: 6, 407: 6, 406: 6, 396: 6, 394: 6, 373: 6, 352: 6, 319: 6, 303: 6, 301: 6, 268: 6, 1506: 5, 1215: 5, 1153: 5, 1113: 5, 1100: 5, 1076: 5, 1046: 5, 982: 5, 919: 5, 892: 5, 891: 5, 866: 5, 863: 5, 828: 5, 824: 5, 822: 5, 821: 5, 809: 5, 799: 5, 795: 5, 791: 5, 775: 5, 724: 5, 721: 5, 706: 5, 700: 5, 678: 5, 671: 5, 660: 5, 651: 5, 644: 5, 643: 5, 640: 5, 630: 5, 627: 5, 621: 5, 616: 5, 614: 5, 610: 5, 608: 5, 604: 5, 592: 5, 589: 5, 588: 5, 583: 5, 582: 5, 580: 5, 574: 5, 569: 5, 564: 5, 562: 5, 556: 5, 552: 5, 551: 5, 549: 5, 547: 5, 536: 5, 531: 5, 520: 5, 510: 5, 501: 5, 499: 5, 498: 5, 496: 5, 489: 5, 480: 5, 474: 5, 473: 5, 465: 5, 460: 5, 454: 5, 449: 5, 439: 5, 420: 5, 405: 5, 398: 5, 391: 5, 385: 5, 384: 5, 374: 5, 372: 5, 367: 5, 362: 5, 357: 5, 356: 5, 311: 5, 2354: 4, 1812: 4, 1484: 4, 1445: 4, 1425: 4, 1354: 4, 1330: 4, 1325: 4, 1283: 4, 1263: 4, 1206: 4, 1123: 4, 1045: 4, 1042: 4, 1031: 4, 1019: 4, 1004: 4, 1000: 4, 985: 4, 980: 4, 968: 4, 950: 4, 922: 4, 914: 4, 912: 4, 903: 4, 902: 4, 887: 4, 886: 4, 879: 4, 876: 4, 858: 4, 855: 4, 852: 4, 842: 4, 804: 4, 801: 4, 800: 4, 790: 4, 782: 4, 755: 4, 751: 4, 745: 4, 742: 4, 739: 4, 738: 4, 732: 4, 731: 4, 726: 4, 716: 4, 713: 4, 711: 4, 702: 4, 696: 4, 690: 4, 670: 4, 662: 4, 646: 4, 611: 4, 607: 4, 605: 4, 602: 4, 594: 4, 560: 4, 558: 4, 557: 4, 553: 4, 544: 4, 541: 4, 537: 4, 530: 4, 516: 4, 509: 4, 506: 4, 500: 4, 493: 4, 490: 4, 463: 4, 452: 4, 448: 4, 445: 4, 441: 4, 435: 4, 433: 4, 427: 4, 422: 4, 421: 4, 416: 4, 408: 4, 402: 4, 382: 4, 361: 4, 347: 4, 333: 4, 4213: 3, 3945: 3, 3540: 3, 2491: 3, 2358: 3, 2226: 3, 2205: 3, 2163: 3, 2106: 3, 2095: 3, 1989: 3, 1947: 3, 1944: 3, 1900: 3, 1898: 3, 1865: 3, 1855: 3, 1783: 3, 1775: 3, 1740: 3, 1683: 3, 1672: 3, 1661: 3, 1653: 3, 1647: 3, 1644: 3, 1630: 3, 1625: 3, 1616: 3, 1607: 3, 1602: 3, 1577: 3, 1567: 3, 1544: 3, 1540: 3, 1523: 3, 1504: 3, 1465: 3, 1454: 3, 1448: 3, 1434: 3, 1394: 3, 1387: 3, 1372: 3, 1367: 3, 1350: 3, 1319: 3, 1312: 3, 1309: 3, 1299: 3, 1288: 3, 1278: 3, 1258: 3, 1240: 3, 1238: 3, 1227: 3, 1224: 3, 1223: 3, 1221: 3, 1217: 3, 1205: 3, 1199: 3, 1182: 3, 1164: 3, 1148: 3, 1145: 3, 1121: 3, 1105: 3, 1102: 3, 1095: 3, 1089: 3, 1086: 3, 1084: 3, 1074: 3, 1069: 3, 1057: 3, 1027: 3, 1026: 3, 1012: 3, 1009: 3, 994: 3, 989: 3, 983: 3, 979: 3, 977: 3, 975: 3, 971: 3, 966: 3, 956: 3, 951: 3, 949: 3, 948: 3, 945: 3, 944: 3, 934: 3, 927: 3, 926: 3, 923: 3, 918: 3, 909: 3, 907: 3, 904: 3, 901: 3, 895: 3, 881: 3, 860: 3, 853: 3, 849: 3, 846: 3, 843: 3, 838: 3, 836: 3, 830: 3, 823: 3, 808: 3, 806: 3, 803: 3, 802: 3, 793: 3, 792: 3, 787: 3, 783: 3, 780: 3, 779: 3, 777: 3, 773: 3, 771: 3, 767: 3, 764: 3, 761: 3, 759: 3, 758: 3, 757: 3, 748: 3, 746: 3, 743: 3, 737: 3, 733: 3, 722: 3, 719: 3, 714: 3, 712: 3, 709: 3, 707: 3, 701: 3, 699: 3, 692: 3, 688: 3, 687: 3, 682: 3, 676: 3, 674: 3, 666: 3, 664: 3, 655: 3, 653: 3, 645: 3, 624: 3, 622: 3, 619: 3, 618: 3, 617: 3, 615: 3, 613: 3, 609: 3, 606: 3, 601: 3, 600: 3, 597: 3, 595: 3, 591: 3, 587: 3, 584: 3, 578: 3, 575: 3, 568: 3, 563: 3, 554: 3, 546: 3, 545: 3, 542: 3, 534: 3, 525: 3, 524: 3, 523: 3, 522: 3, 517: 3, 513: 3, 508: 3, 504: 3, 495: 3, 492: 3, 491: 3, 487: 3, 484: 3, 477: 3, 475: 3, 457: 3, 444: 3, 442: 3, 432: 3, 412: 3, 411: 3, 409: 3, 371: 3, 337: 3, 26290: 2, 11623: 2, 7497: 2, 7312: 2, 7204: 2, 7038: 2, 6472: 2, 5943: 2, 5104: 2, 4828: 2, 4629: 2, 4593: 2, 4506: 2, 4483: 2, 4372: 2, 4229: 2, 4218: 2, 4065: 2, 4040: 2, 3922: 2, 3867: 2, 3770: 2, 3724: 2, 3673: 2, 3644: 2, 3537: 2, 3502: 2, 3433: 2, 3414: 2, 3396: 2, 3333: 2, 3305: 2, 3292: 2, 3250: 2, 3241: 2, 3195: 2, 3156: 2, 3129: 2, 3012: 2, 2967: 2, 2939: 2, 2922: 2, 2850: 2, 2842: 2, 2814: 2, 2766: 2, 2717: 2, 2704: 2, 2698: 2, 2688: 2, 2675: 2, 2673: 2, 2571: 2, 2567: 2, 2565: 2, 2558: 2, 2536: 2, 2522: 2, 2507: 2, 2503: 2, 2497: 2, 2463: 2, 2459: 2, 2452: 2, 2430: 2, 2391: 2, 2386: 2, 2371: 2, 2353: 2, 2343: 2, 2334: 2, 2327: 2, 2282: 2, 2232: 2, 2231: 2, 2220: 2, 2219: 2, 2208: 2, 2181: 2, 2176: 2, 2155: 2, 2148: 2, 2103: 2, 2092: 2, 2076: 2, 2065: 2, 2049: 2, 2045: 2, 2042: 2, 2032: 2, 2021: 2, 2020: 2, 2011: 2, 2005: 2, 1994: 2, 1983: 2, 1968: 2, 1964: 2, 1958: 2, 1937: 2, 1931: 2, 1923: 2, 1914: 2, 1904: 2, 1889: 2, 1878: 2, 1866: 2, 1850: 2, 1843: 2, 1840: 2, 1838: 2, 1818: 2, 1807: 2, 1800: 2, 1799: 2, 1791: 2, 1787: 2, 1780: 2, 1777: 2, 1772: 2, 1771: 2, 1765: 2, 1761: 2, 1755: 2, 1754: 2, 1748: 2, 1742: 2, 1741: 2, 1725: 2, 1718: 2, 1712: 2, 1699: 2, 1696: 2, 1695: 2, 1687: 2, 1676: 2, 1662: 2, 1657: 2, 1654: 2, 1636: 2, 1633: 2, 1619: 2, 1609: 2, 1590: 2, 1586: 2, 1582: 2, 1578: 2, 1570: 2, 1563: 2, 1558: 2, 1545: 2, 1543: 2, 1542: 2, 1537: 2, 1531: 2, 1522: 2, 1521: 2, 1496: 2, 1489: 2, 1487: 2, 1468: 2, 1466: 2, 1463: 2, 1450: 2, 1443: 2, 1440: 2, 1438: 2, 1437: 2, 1427: 2, 1415: 2, 1405: 2, 1400: 2, 1399: 2, 1397: 2, 1391: 2, 1389: 2, 1385: 2, 1378: 2, 1370: 2, 1369: 2, 1368: 2, 1366: 2, 1361: 2, 1355: 2, 1327: 2, 1317: 2, 1313: 2, 1307: 2, 1301: 2, 1297: 2, 1292: 2, 1290: 2, 1287: 2, 1275: 2, 1270: 2, 1269: 2, 1268: 2, 1265: 2, 1262: 2, 1252: 2, 1248: 2, 1247: 2, 1242: 2, 1234: 2, 1232: 2, 1230: 2, 1226: 2, 1222: 2, 1208: 2, 1204: 2, 1202: 2, 1197: 2, 1192: 2, 1188: 2, 1180: 2, 1179: 2, 1176: 2, 1170: 2, 1167: 2, 1162: 2, 1159: 2, 1154: 2, 1143: 2, 1140: 2, 1137: 2, 1133: 2, 1118: 2, 1115: 2, 1109: 2, 1099: 2, 1092: 2, 1082: 2, 1079: 2, 1072: 2, 1067: 2, 1065: 2, 1061: 2, 1053: 2, 1049: 2, 1044: 2, 1041: 2, 1039: 2, 1034: 2, 1025: 2, 1021: 2, 1016: 2, 1011: 2, 1007: 2, 1005: 2, 995: 2, 991: 2, 987: 2, 981: 2, 967: 2, 964: 2, 962: 2, 961: 2, 960: 2, 959: 2, 938: 2, 932: 2, 931: 2, 930: 2, 929: 2, 925: 2, 920: 2, 916: 2, 915: 2, 908: 2, 906: 2, 899: 2, 898: 2, 894: 2, 884: 2, 883: 2, 880: 2, 874: 2, 868: 2, 854: 2, 847: 2, 841: 2, 837: 2, 834: 2, 833: 2, 832: 2, 831: 2, 827: 2, 825: 2, 819: 2, 815: 2, 805: 2, 798: 2, 797: 2, 794: 2, 789: 2, 778: 2, 774: 2, 766: 2, 763: 2, 762: 2, 754: 2, 753: 2, 752: 2, 744: 2, 730: 2, 725: 2, 720: 2, 717: 2, 710: 2, 705: 2, 704: 2, 697: 2, 694: 2, 686: 2, 679: 2, 672: 2, 668: 2, 665: 2, 659: 2, 658: 2, 657: 2, 656: 2, 654: 2, 648: 2, 647: 2, 642: 2, 639: 2, 638: 2, 635: 2, 623: 2, 620: 2, 612: 2, 603: 2, 596: 2, 590: 2, 581: 2, 577: 2, 567: 2, 565: 2, 561: 2, 550: 2, 535: 2, 533: 2, 527: 2, 514: 2, 511: 2, 469: 2, 459: 2, 455: 2, 443: 2, 423: 2, 415: 2, 318: 2, 156485: 1, 121011: 1, 81725: 1, 69212: 1, 68266: 1, 68113: 1, 67599: 1, 63588: 1, 63422: 1, 59148: 1, 54075: 1, 49586: 1, 49205: 1, 47475: 1, 46640: 1, 44632: 1, 43418: 1, 42898: 1, 42313: 1, 41619: 1, 40900: 1, 40336: 1, 38926: 1, 38548: 1, 38444: 1, 38364: 1, 37006: 1, 36561: 1, 36425: 1, 35115: 1, 34307: 1, 34015: 1, 33962: 1, 33679: 1, 32096: 1, 31853: 1, 29691: 1, 28344: 1, 28299: 1, 27041: 1, 26642: 1, 26426: 1, 25019: 1, 25013: 1, 24803: 1, 24776: 1, 24584: 1, 24551: 1, 24514: 1, 24439: 1, 23738: 1, 23348: 1, 22771: 1, 22278: 1, 22127: 1, 21961: 1, 21385: 1, 21197: 1, 20966: 1, 20635: 1, 20552: 1, 20533: 1, 20529: 1, 19771: 1, 19747: 1, 19712: 1, 19610: 1, 19572: 1, 19329: 1, 19087: 1, 19069: 1, 18958: 1, 18956: 1, 18926: 1, 18904: 1, 18768: 1, 18291: 1, 18259: 1, 18202: 1, 18111: 1, 18104: 1, 17885: 1, 17823: 1, 17676: 1, 17616: 1, 17579: 1, 17577: 1, 17332: 1, 17309: 1, 17283: 1, 17193: 1, 17056: 1, 16732: 1, 16708: 1, 16560: 1, 16422: 1, 16077: 1, 15916: 1, 15901: 1, 15893: 1, 15823: 1, 15783: 1, 15710: 1, 15689: 1, 15670: 1, 15565: 1, 15494: 1, 15263: 1, 15183: 1, 15160: 1, 15024: 1, 15003: 1, 14911: 1, 14727: 1, 14721: 1, 14719: 1, 14516: 1, 14323: 1, 14302: 1, 14288: 1, 14286: 1, 14103: 1, 14027: 1, 13842: 1, 13783: 1, 13753: 1, 13739: 1, 13575: 1, 13449: 1, 13383: 1, 13363: 1, 13276: 1, 13262: 1, 12989: 1, 12915: 1, 12901: 1, 12730: 1, 12715: 1, 12686: 1, 12681: 1, 12680: 1, 12658: 1, 12652: 1, 12638: 1, 12623: 1, 12499: 1, 12464: 1, 12444: 1, 12430: 1, 12423: 1, 12298: 1, 12294: 1, 12270: 1, 12178: 1, 12173: 1, 12170: 1, 12145: 1, 12135: 1, 12091: 1, 12050: 1, 11984: 1, 11960: 1, 11931: 1, 11922: 1, 11914: 1, 11889: 1, 11820: 1, 11771: 1, 11750: 1, 11735: 1, 11596: 1, 11587: 1, 11576: 1, 11502: 1, 11421: 1, 11308: 1, 11281: 1, 11215: 1, 11192: 1, 11166: 1, 11131: 1, 10770: 1, 10751: 1, 10692: 1, 10673: 1, 10611: 1, 10607: 1, 10527: 1, 10513: 1, 10484: 1, 10476: 1, 10462: 1, 10455: 1, 10436: 1, 10415: 1, 10325: 1, 10297: 1, 10202: 1, 10116: 1, 10099: 1, 10098: 1, 9995: 1, 9968: 1, 9938: 1, 9936: 1, 9891: 1, 9818: 1, 9787: 1, 9761: 1, 9713: 1, 9648: 1, 9638: 1, 9604: 1, 9594: 1, 9568: 1, 9551: 1, 9525: 1, 9483: 1, 9474: 1, 9368: 1, 9346: 1, 9230: 1, 9224: 1, 9200: 1, 9165: 1, 9158: 1, 9148: 1, 9134: 1, 9130: 1, 9128: 1, 9057: 1, 9053: 1, 8987: 1, 8983: 1, 8981: 1, 8957: 1, 8951: 1, 8944: 1, 8919: 1, 8908: 1, 8901: 1, 8885: 1, 8777: 1, 8766: 1, 8734: 1, 8663: 1, 8647: 1, 8558: 1, 8547: 1, 8542: 1, 8507: 1, 8506: 1, 8473: 1, 8454: 1, 8385: 1, 8378: 1, 8359: 1, 8337: 1, 8329: 1, 8317: 1, 8299: 1, 8293: 1, 8290: 1, 8271: 1, 8261: 1, 8243: 1, 8238: 1, 8232: 1, 8206: 1, 8153: 1, 8146: 1, 8138: 1, 8115: 1, 8053: 1, 8026: 1, 8024: 1, 8008: 1, 7988: 1, 7978: 1, 7970: 1, 7919: 1, 7909: 1, 7887: 1, 7883: 1, 7868: 1, 7865: 1, 7858: 1, 7856: 1, 7848: 1, 7845: 1, 7780: 1, 7750: 1, 7692: 1, 7667: 1, 7586: 1, 7581: 1, 7552: 1, 7533: 1, 7471: 1, 7466: 1, 7432: 1, 7399: 1, 7387: 1, 7338: 1, 7337: 1, 7319: 1, 7267: 1, 7259: 1, 7238: 1, 7214: 1, 7205: 1, 7197: 1, 7196: 1, 7169: 1, 7159: 1, 7149: 1, 7125: 1, 7113: 1, 7102: 1, 7083: 1, 7068: 1, 7060: 1, 7053: 1, 7028: 1, 7017: 1, 6999: 1, 6997: 1, 6991: 1, 6963: 1, 6956: 1, 6954: 1, 6941: 1, 6911: 1, 6902: 1, 6864: 1, 6835: 1, 6821: 1, 6815: 1, 6787: 1, 6768: 1, 6730: 1, 6715: 1, 6712: 1, 6685: 1, 6673: 1, 6654: 1, 6611: 1, 6596: 1, 6577: 1, 6567: 1, 6551: 1, 6532: 1, 6503: 1, 6481: 1, 6462: 1, 6459: 1, 6454: 1, 6447: 1, 6443: 1, 6439: 1, 6435: 1, 6432: 1, 6398: 1, 6381: 1, 6380: 1, 6375: 1, 6362: 1, 6354: 1, 6353: 1, 6331: 1, 6328: 1, 6278: 1, 6254: 1, 6251: 1, 6214: 1, 6209: 1, 6198: 1, 6172: 1, 6155: 1, 6144: 1, 6139: 1, 6122: 1, 6116: 1, 6091: 1, 6084: 1, 6065: 1, 6052: 1, 6027: 1, 6023: 1, 5993: 1, 5983: 1, 5966: 1, 5965: 1, 5955: 1, 5910: 1, 5907: 1, 5897: 1, 5876: 1, 5856: 1, 5841: 1, 5834: 1, 5828: 1, 5825: 1, 5804: 1, 5798: 1, 5789: 1, 5768: 1, 5751: 1, 5750: 1, 5743: 1, 5740: 1, 5731: 1, 5730: 1, 5725: 1, 5707: 1, 5699: 1, 5659: 1, 5645: 1, 5638: 1, 5633: 1, 5629: 1, 5628: 1, 5611: 1, 5602: 1, 5601: 1, 5567: 1, 5538: 1, 5527: 1, 5515: 1, 5508: 1, 5499: 1, 5479: 1, 5474: 1, 5462: 1, 5456: 1, 5455: 1, 5454: 1, 5395: 1, 5385: 1, 5384: 1, 5378: 1, 5356: 1, 5338: 1, 5329: 1, 5279: 1, 5271: 1, 5249: 1, 5247: 1, 5218: 1, 5215: 1, 5210: 1, 5206: 1, 5192: 1, 5181: 1, 5180: 1, 5163: 1, 5140: 1, 5130: 1, 5128: 1, 5110: 1, 5106: 1, 5105: 1, 5092: 1, 5088: 1, 5076: 1, 5074: 1, 5061: 1, 5057: 1, 5055: 1, 5046: 1, 5038: 1, 5034: 1, 5033: 1, 5032: 1, 5031: 1, 5018: 1, 4991: 1, 4976: 1, 4968: 1, 4961: 1, 4959: 1, 4954: 1, 4939: 1, 4938: 1, 4929: 1, 4926: 1, 4923: 1, 4919: 1, 4882: 1, 4880: 1, 4876: 1, 4873: 1, 4872: 1, 4869: 1, 4867: 1, 4841: 1, 4839: 1, 4838: 1, 4832: 1, 4830: 1, 4821: 1, 4805: 1, 4800: 1, 4785: 1, 4765: 1, 4763: 1, 4760: 1, 4727: 1, 4699: 1, 4671: 1, 4658: 1, 4653: 1, 4648: 1, 4625: 1, 4612: 1, 4598: 1, 4587: 1, 4564: 1, 4561: 1, 4555: 1, 4546: 1, 4538: 1, 4535: 1, 4533: 1, 4530: 1, 4524: 1, 4521: 1, 4520: 1, 4505: 1, 4503: 1, 4500: 1, 4492: 1, 4489: 1, 4485: 1, 4467: 1, 4463: 1, 4462: 1, 4456: 1, 4449: 1, 4436: 1, 4435: 1, 4432: 1, 4431: 1, 4405: 1, 4404: 1, 4402: 1, 4385: 1, 4378: 1, 4374: 1, 4357: 1, 4351: 1, 4346: 1, 4338: 1, 4335: 1, 4331: 1, 4325: 1, 4321: 1, 4318: 1, 4313: 1, 4308: 1, 4305: 1, 4297: 1, 4292: 1, 4276: 1, 4264: 1, 4262: 1, 4257: 1, 4241: 1, 4221: 1, 4217: 1, 4214: 1, 4205: 1, 4204: 1, 4196: 1, 4190: 1, 4183: 1, 4173: 1, 4168: 1, 4165: 1, 4163: 1, 4160: 1, 4150: 1, 4141: 1, 4130: 1, 4112: 1, 4109: 1, 4088: 1, 4072: 1, 4058: 1, 4052: 1, 4050: 1, 4037: 1, 4030: 1, 4020: 1, 4009: 1, 4008: 1, 4004: 1, 4002: 1, 4001: 1, 4000: 1, 3990: 1, 3987: 1, 3983: 1, 3982: 1, 3972: 1, 3970: 1, 3966: 1, 3963: 1, 3957: 1, 3950: 1, 3938: 1, 3927: 1, 3917: 1, 3910: 1, 3902: 1, 3901: 1, 3895: 1, 3893: 1, 3892: 1, 3887: 1, 3879: 1, 3877: 1, 3875: 1, 3871: 1, 3868: 1, 3865: 1, 3863: 1, 3856: 1, 3851: 1, 3841: 1, 3833: 1, 3828: 1, 3827: 1, 3826: 1, 3820: 1, 3819: 1, 3817: 1, 3814: 1, 3805: 1, 3794: 1, 3790: 1, 3788: 1, 3783: 1, 3781: 1, 3768: 1, 3767: 1, 3756: 1, 3747: 1, 3746: 1, 3744: 1, 3742: 1, 3730: 1, 3725: 1, 3715: 1, 3707: 1, 3698: 1, 3689: 1, 3672: 1, 3671: 1, 3668: 1, 3660: 1, 3640: 1, 3630: 1, 3627: 1, 3626: 1, 3623: 1, 3617: 1, 3610: 1, 3606: 1, 3601: 1, 3594: 1, 3591: 1, 3585: 1, 3584: 1, 3576: 1, 3572: 1, 3570: 1, 3562: 1, 3556: 1, 3553: 1, 3551: 1, 3547: 1, 3534: 1, 3528: 1, 3527: 1, 3523: 1, 3521: 1, 3518: 1, 3517: 1, 3515: 1, 3514: 1, 3509: 1, 3508: 1, 3506: 1, 3504: 1, 3498: 1, 3489: 1, 3487: 1, 3472: 1, 3471: 1, 3470: 1, 3468: 1, 3467: 1, 3466: 1, 3465: 1, 3464: 1, 3462: 1, 3461: 1, 3458: 1, 3451: 1, 3444: 1, 3441: 1, 3427: 1, 3424: 1, 3421: 1, 3419: 1, 3417: 1, 3413: 1, 3412: 1, 3410: 1, 3404: 1, 3403: 1, 3401: 1, 3398: 1, 3388: 1, 3385: 1, 3382: 1, 3378: 1, 3367: 1, 3366: 1, 3360: 1, 3356: 1, 3348: 1, 3347: 1, 3340: 1, 3339: 1, 3338: 1, 3337: 1, 3335: 1, 3313: 1, 3310: 1, 3299: 1, 3290: 1, 3284: 1, 3283: 1, 3278: 1, 3267: 1, 3263: 1, 3256: 1, 3255: 1, 3252: 1, 3239: 1, 3235: 1, 3232: 1, 3227: 1, 3220: 1, 3219: 1, 3217: 1, 3207: 1, 3203: 1, 3202: 1, 3198: 1, 3189: 1, 3187: 1, 3183: 1, 3176: 1, 3167: 1, 3164: 1, 3163: 1, 3157: 1, 3150: 1, 3147: 1, 3141: 1, 3140: 1, 3124: 1, 3121: 1, 3103: 1, 3102: 1, 3098: 1, 3097: 1, 3093: 1, 3091: 1, 3082: 1, 3078: 1, 3077: 1, 3069: 1, 3065: 1, 3058: 1, 3052: 1, 3050: 1, 3044: 1, 3041: 1, 3037: 1, 3028: 1, 3027: 1, 3014: 1, 2997: 1, 2991: 1, 2987: 1, 2986: 1, 2981: 1, 2977: 1, 2972: 1, 2971: 1, 2961: 1, 2959: 1, 2955: 1, 2950: 1, 2945: 1, 2942: 1, 2940: 1, 2934: 1, 2930: 1, 2929: 1, 2928: 1, 2924: 1, 2923: 1, 2921: 1, 2918: 1, 2912: 1, 2911: 1, 2909: 1, 2908: 1, 2907: 1, 2898: 1, 2893: 1, 2891: 1, 2888: 1, 2885: 1, 2882: 1, 2878: 1, 2877: 1, 2875: 1, 2874: 1, 2873: 1, 2861: 1, 2853: 1, 2845: 1, 2840: 1, 2839: 1, 2837: 1, 2835: 1, 2832: 1, 2829: 1, 2827: 1, 2824: 1, 2822: 1, 2812: 1, 2810: 1, 2804: 1, 2803: 1, 2788: 1, 2782: 1, 2779: 1, 2773: 1, 2751: 1, 2750: 1, 2749: 1, 2746: 1, 2745: 1, 2743: 1, 2733: 1, 2727: 1, 2721: 1, 2720: 1, 2718: 1, 2716: 1, 2714: 1, 2712: 1, 2709: 1, 2708: 1, 2705: 1, 2696: 1, 2695: 1, 2693: 1, 2681: 1, 2663: 1, 2661: 1, 2660: 1, 2659: 1, 2658: 1, 2657: 1, 2654: 1, 2648: 1, 2640: 1, 2639: 1, 2638: 1, 2636: 1, 2631: 1, 2625: 1, 2621: 1, 2619: 1, 2614: 1, 2610: 1, 2609: 1, 2595: 1, 2593: 1, 2592: 1, 2581: 1, 2570: 1, 2569: 1, 2568: 1, 2563: 1, 2559: 1, 2557: 1, 2554: 1, 2553: 1, 2550: 1, 2549: 1, 2548: 1, 2544: 1, 2539: 1, 2537: 1, 2535: 1, 2532: 1, 2525: 1, 2524: 1, 2515: 1, 2504: 1, 2490: 1, 2489: 1, 2486: 1, 2485: 1, 2484: 1, 2482: 1, 2477: 1, 2474: 1, 2472: 1, 2468: 1, 2466: 1, 2465: 1, 2458: 1, 2454: 1, 2451: 1, 2449: 1, 2445: 1, 2444: 1, 2442: 1, 2435: 1, 2433: 1, 2431: 1, 2429: 1, 2427: 1, 2423: 1, 2422: 1, 2418: 1, 2412: 1, 2408: 1, 2401: 1, 2400: 1, 2395: 1, 2394: 1, 2392: 1, 2389: 1, 2388: 1, 2385: 1, 2383: 1, 2382: 1, 2381: 1, 2378: 1, 2372: 1, 2368: 1, 2352: 1, 2350: 1, 2349: 1, 2348: 1, 2346: 1, 2344: 1, 2340: 1, 2337: 1, 2326: 1, 2325: 1, 2319: 1, 2318: 1, 2312: 1, 2311: 1, 2306: 1, 2304: 1, 2299: 1, 2295: 1, 2293: 1, 2292: 1, 2291: 1, 2290: 1, 2286: 1, 2278: 1, 2269: 1, 2266: 1, 2262: 1, 2258: 1, 2257: 1, 2254: 1, 2253: 1, 2252: 1, 2251: 1, 2250: 1, 2245: 1, 2238: 1, 2236: 1, 2233: 1, 2230: 1, 2229: 1, 2224: 1, 2221: 1, 2218: 1, 2216: 1, 2215: 1, 2214: 1, 2211: 1, 2209: 1, 2206: 1, 2200: 1, 2199: 1, 2198: 1, 2197: 1, 2185: 1, 2180: 1, 2178: 1, 2175: 1, 2174: 1, 2171: 1, 2167: 1, 2164: 1, 2161: 1, 2160: 1, 2156: 1, 2154: 1, 2149: 1, 2146: 1, 2144: 1, 2143: 1, 2140: 1, 2128: 1, 2127: 1, 2124: 1, 2123: 1, 2121: 1, 2119: 1, 2115: 1, 2114: 1, 2113: 1, 2112: 1, 2110: 1, 2104: 1, 2102: 1, 2101: 1, 2097: 1, 2093: 1, 2089: 1, 2085: 1, 2082: 1, 2081: 1, 2077: 1, 2073: 1, 2069: 1, 2068: 1, 2067: 1, 2066: 1, 2060: 1, 2058: 1, 2054: 1, 2053: 1, 2048: 1, 2040: 1, 2039: 1, 2038: 1, 2034: 1, 2033: 1, 2031: 1, 2030: 1, 2028: 1, 2027: 1, 2023: 1, 2017: 1, 2016: 1, 2014: 1, 2009: 1, 2008: 1, 2006: 1, 2002: 1, 2000: 1, 1995: 1, 1993: 1, 1981: 1, 1978: 1, 1976: 1, 1974: 1, 1972: 1, 1970: 1, 1969: 1, 1967: 1, 1957: 1, 1956: 1, 1953: 1, 1952: 1, 1950: 1, 1949: 1, 1943: 1, 1942: 1, 1939: 1, 1933: 1, 1927: 1, 1926: 1, 1925: 1, 1921: 1, 1920: 1, 1919: 1, 1911: 1, 1910: 1, 1909: 1, 1906: 1, 1905: 1, 1903: 1, 1902: 1, 1901: 1, 1899: 1, 1897: 1, 1894: 1, 1891: 1, 1888: 1, 1886: 1, 1884: 1, 1880: 1, 1874: 1, 1873: 1, 1872: 1, 1871: 1, 1870: 1, 1867: 1, 1864: 1, 1863: 1, 1861: 1, 1854: 1, 1852: 1, 1844: 1, 1839: 1, 1836: 1, 1835: 1, 1828: 1, 1824: 1, 1819: 1, 1816: 1, 1813: 1, 1804: 1, 1801: 1, 1795: 1, 1794: 1, 1792: 1, 1789: 1, 1788: 1, 1786: 1, 1781: 1, 1776: 1, 1770: 1, 1768: 1, 1767: 1, 1763: 1, 1760: 1, 1752: 1, 1751: 1, 1747: 1, 1745: 1, 1735: 1, 1732: 1, 1728: 1, 1722: 1, 1721: 1, 1720: 1, 1714: 1, 1710: 1, 1709: 1, 1707: 1, 1706: 1, 1705: 1, 1700: 1, 1698: 1, 1694: 1, 1686: 1, 1682: 1, 1680: 1, 1679: 1, 1678: 1, 1671: 1, 1668: 1, 1663: 1, 1655: 1, 1651: 1, 1650: 1, 1648: 1, 1646: 1, 1642: 1, 1641: 1, 1640: 1, 1638: 1, 1635: 1, 1634: 1, 1628: 1, 1624: 1, 1622: 1, 1621: 1, 1618: 1, 1606: 1, 1604: 1, 1601: 1, 1599: 1, 1597: 1, 1596: 1, 1594: 1, 1591: 1, 1588: 1, 1587: 1, 1584: 1, 1580: 1, 1579: 1, 1574: 1, 1572: 1, 1571: 1, 1569: 1, 1565: 1, 1562: 1, 1561: 1, 1559: 1, 1552: 1, 1549: 1, 1546: 1, 1539: 1, 1538: 1, 1534: 1, 1532: 1, 1528: 1, 1526: 1, 1525: 1, 1518: 1, 1517: 1, 1514: 1, 1511: 1, 1508: 1, 1505: 1, 1500: 1, 1499: 1, 1498: 1, 1497: 1, 1494: 1, 1493: 1, 1491: 1, 1488: 1, 1486: 1, 1485: 1, 1482: 1, 1481: 1, 1476: 1, 1474: 1, 1473: 1, 1472: 1, 1470: 1, 1469: 1, 1467: 1, 1464: 1, 1461: 1, 1460: 1, 1459: 1, 1452: 1, 1446: 1, 1444: 1, 1439: 1, 1435: 1, 1433: 1, 1431: 1, 1428: 1, 1426: 1, 1424: 1, 1421: 1, 1418: 1, 1416: 1, 1414: 1, 1412: 1, 1411: 1, 1408: 1, 1404: 1, 1392: 1, 1390: 1, 1388: 1, 1384: 1, 1383: 1, 1382: 1, 1379: 1, 1377: 1, 1375: 1, 1374: 1, 1371: 1, 1365: 1, 1364: 1, 1363: 1, 1360: 1, 1359: 1, 1357: 1, 1356: 1, 1353: 1, 1349: 1, 1346: 1, 1342: 1, 1340: 1, 1338: 1, 1337: 1, 1335: 1, 1333: 1, 1332: 1, 1329: 1, 1326: 1, 1322: 1, 1321: 1, 1320: 1, 1318: 1, 1316: 1, 1315: 1, 1314: 1, 1310: 1, 1306: 1, 1304: 1, 1302: 1, 1300: 1, 1296: 1, 1295: 1, 1293: 1, 1291: 1, 1289: 1, 1286: 1, 1285: 1, 1284: 1, 1281: 1, 1280: 1, 1277: 1, 1276: 1, 1274: 1, 1273: 1, 1272: 1, 1271: 1, 1264: 1, 1261: 1, 1260: 1, 1259: 1, 1257: 1, 1255: 1, 1254: 1, 1251: 1, 1250: 1, 1249: 1, 1246: 1, 1244: 1, 1243: 1, 1236: 1, 1233: 1, 1231: 1, 1228: 1, 1225: 1, 1220: 1, 1218: 1, 1216: 1, 1213: 1, 1211: 1, 1210: 1, 1209: 1, 1207: 1, 1198: 1, 1194: 1, 1191: 1, 1190: 1, 1189: 1, 1186: 1, 1184: 1, 1183: 1, 1181: 1, 1178: 1, 1175: 1, 1174: 1, 1171: 1, 1169: 1, 1168: 1, 1165: 1, 1160: 1, 1158: 1, 1156: 1, 1155: 1, 1152: 1, 1151: 1, 1149: 1, 1147: 1, 1146: 1, 1142: 1, 1139: 1, 1138: 1, 1135: 1, 1132: 1, 1131: 1, 1126: 1, 1125: 1, 1124: 1, 1119: 1, 1116: 1, 1110: 1, 1108: 1, 1107: 1, 1104: 1, 1103: 1, 1101: 1, 1097: 1, 1093: 1, 1091: 1, 1090: 1, 1087: 1, 1085: 1, 1081: 1, 1078: 1, 1077: 1, 1073: 1, 1071: 1, 1070: 1, 1066: 1, 1064: 1, 1063: 1, 1062: 1, 1059: 1, 1058: 1, 1056: 1, 1054: 1, 1050: 1, 1047: 1, 1038: 1, 1035: 1, 1033: 1, 1032: 1, 1028: 1, 1024: 1, 1020: 1, 1018: 1, 1017: 1, 1013: 1, 1010: 1, 1008: 1, 1002: 1, 999: 1, 998: 1, 997: 1, 996: 1, 993: 1, 992: 1, 990: 1, 988: 1, 984: 1, 973: 1, 970: 1, 969: 1, 965: 1, 958: 1, 955: 1, 952: 1, 946: 1, 942: 1, 941: 1, 939: 1, 937: 1, 935: 1, 933: 1, 928: 1, 921: 1, 917: 1, 910: 1, 905: 1, 900: 1, 897: 1, 896: 1, 889: 1, 888: 1, 882: 1, 878: 1, 877: 1, 872: 1, 871: 1, 870: 1, 869: 1, 864: 1, 862: 1, 861: 1, 856: 1, 850: 1, 848: 1, 845: 1, 844: 1, 839: 1, 829: 1, 826: 1, 820: 1, 818: 1, 816: 1, 811: 1, 807: 1, 796: 1, 786: 1, 785: 1, 784: 1, 776: 1, 772: 1, 769: 1, 768: 1, 756: 1, 749: 1, 741: 1, 736: 1, 735: 1, 734: 1, 729: 1, 728: 1, 727: 1, 723: 1, 718: 1, 715: 1, 703: 1, 693: 1, 691: 1, 683: 1, 681: 1, 680: 1, 677: 1, 673: 1, 669: 1, 667: 1, 661: 1, 652: 1, 650: 1, 649: 1, 634: 1, 633: 1, 629: 1, 626: 1, 599: 1, 586: 1, 585: 1, 579: 1, 559: 1, 555: 1, 528: 1, 507: 1, 488: 1, 486: 1, 479: 1, 478: 1})\n"
     ]
    }
   ],
   "source": [
    "sorted_text_fea_dict = dict(sorted(text_fea_dict.items(), key=lambda x: x[1] , reverse=True))\n",
    "sorted_text_occur = np.array(list(sorted_text_fea_dict.values()))\n",
    "\n",
    "print(Counter(sorted_text_occur))       # Number of words for a given frequency."
   ]
  },
  {
   "cell_type": "code",
   "execution_count": 35,
   "metadata": {},
   "outputs": [
    {
     "name": "stdout",
     "output_type": "stream",
     "text": [
      "For values of alpha =  1e-05 The log loss is: 1.4591866204461084\n",
      "For values of alpha =  0.0001 The log loss is: 1.3896159336145177\n",
      "For values of alpha =  0.001 The log loss is: 1.3569722435233884\n",
      "For values of alpha =  0.01 The log loss is: 1.4963105136117327\n",
      "For values of alpha =  0.1 The log loss is: 1.6085163864472576\n",
      "For values of alpha =  1 The log loss is: 1.7312334621672385\n"
     ]
    },
    {
     "data": {
      "image/png": "[encoded data removed]",
      "text/plain": [
       "<Figure size 432x288 with 1 Axes>"
      ]
     },
     "metadata": {
      "needs_background": "light"
     },
     "output_type": "display_data"
    },
    {
     "name": "stdout",
     "output_type": "stream",
     "text": [
      "For values of best alpha =  0.001 The train log loss is: 0.6442087383941061\n",
      "For values of best alpha =  0.001 The cross validation log loss is: 1.3569722435233884\n",
      "For values of best alpha =  0.001 The test log loss is: 1.2153693600854432\n"
     ]
    }
   ],
   "source": [
    "alpha = [10 ** x for x in range(-5, 1)]      # Hyperparameter for SGD classifier.\n",
    "\n",
    "cv_log_error_array=[]\n",
    "for i in alpha:\n",
    "    clf = SGDClassifier(alpha=i, penalty='l2', loss='log', random_state=42)\n",
    "    clf.fit(train_text_feature_onehotCoding, y_train)\n",
    "    sig_clf = CalibratedClassifierCV(clf, method=\"sigmoid\")\n",
    "    sig_clf.fit(train_text_feature_onehotCoding, y_train)\n",
    "    predict_y = sig_clf.predict_proba(cv_text_feature_onehotCoding)\n",
    "    cv_log_error_array.append(log_loss(y_cv, predict_y, labels=clf.classes_, eps=1e-15))\n",
    "    print('For values of alpha = ', i, \"The log loss is:\",log_loss(y_cv, predict_y, labels=clf.classes_, eps=1e-15))\n",
    "\n",
    "fig, ax = plt.subplots()\n",
    "ax.plot(alpha, cv_log_error_array,c='g')\n",
    "for i, txt in enumerate(np.round(cv_log_error_array,3)):\n",
    "    ax.annotate((alpha[i],np.round(txt,3)), (alpha[i],cv_log_error_array[i]))\n",
    "plt.grid()\n",
    "plt.title(\"Cross Validation Error for each alpha\")\n",
    "plt.xlabel(\"Alpha i's\")\n",
    "plt.ylabel(\"Error measure\")\n",
    "plt.show()\n",
    "\n",
    "\n",
    "best_alpha = np.argmin(cv_log_error_array)\n",
    "clf = SGDClassifier(alpha=alpha[best_alpha], penalty='l2', loss='log', random_state=42)\n",
    "clf.fit(train_text_feature_onehotCoding, y_train)\n",
    "sig_clf = CalibratedClassifierCV(clf, method=\"sigmoid\")\n",
    "sig_clf.fit(train_text_feature_onehotCoding, y_train)\n",
    "\n",
    "predict_y = sig_clf.predict_proba(train_text_feature_onehotCoding)\n",
    "print('For values of best alpha = ', alpha[best_alpha], \"The train log loss is:\",log_loss(y_train, predict_y, labels=clf.classes_, eps=1e-15))\n",
    "predict_y = sig_clf.predict_proba(cv_text_feature_onehotCoding)\n",
    "print('For values of best alpha = ', alpha[best_alpha], \"The cross validation log loss is:\",log_loss(y_cv, predict_y, labels=clf.classes_, eps=1e-15))\n",
    "predict_y = sig_clf.predict_proba(test_text_feature_onehotCoding)\n",
    "print('For values of best alpha = ', alpha[best_alpha], \"The test log loss is:\",log_loss(y_test, predict_y, labels=clf.classes_, eps=1e-15))"
   ]
  },
  {
   "cell_type": "markdown",
   "metadata": {},
   "source": [
    "The Train, Cross-Validation and Test errors, using only the Variation Feature, are less than the log-loss of the random model, Variation Feature is an important feature. And since the Cross-Validation and Test errors are almost same as the Train errors, this model may be stable (i.e. we are not overfitting the model). But we cannot be sure from this result. So lets be sure by performing below operation:"
   ]
  },
  {
   "cell_type": "code",
   "execution_count": 36,
   "metadata": {},
   "outputs": [],
   "source": [
    "def get_intersec_text(df):\n",
    "    df_text_vec = CountVectorizer(min_df=3)\n",
    "    df_text_fea = df_text_vec.fit_transform(df['Text'])\n",
    "    df_text_features = df_text_vec.get_feature_names()\n",
    "\n",
    "    df_text_fea_counts = df_text_fea.sum(axis=0).A1\n",
    "    df_text_fea_dict = dict(zip(list(df_text_features), df_text_fea_counts))\n",
    "    len1 = len(set(df_text_features))\n",
    "    len2 = len(set(train_text_features) & set(df_text_features))\n",
    "    return len1,len2"
   ]
  },
  {
   "cell_type": "code",
   "execution_count": 37,
   "metadata": {},
   "outputs": [
    {
     "name": "stdout",
     "output_type": "stream",
     "text": [
      "27744 out of 28901 : 95.997 % words appeared in Test data that were present in the train data\n",
      "24870 out of 25469 : 97.648 % words appeared in CV data that were present in the train data\n"
     ]
    }
   ],
   "source": [
    "len1,len2 = get_intersec_text(x_test)\n",
    "print(len2, \"out of\", len1, \":\", np.round((len2/len1)*100, 3), \"% words appeared in Test data that were present in the train data\")\n",
    "len1,len2 = get_intersec_text(x_cv)\n",
    "print(len2, \"out of\", len1, \":\", np.round((len2/len1)*100, 3), \"% words appeared in CV data that were present in the train data\")"
   ]
  },
  {
   "cell_type": "markdown",
   "metadata": {},
   "source": [
    "Of the total points present in the train data, only 97% (roughly) data points are present in the test and cross-validation data. So the system is stable. So this feature is of high importance and has low risk of overfitting."
   ]
  },
  {
   "cell_type": "code",
   "execution_count": null,
   "metadata": {},
   "outputs": [],
   "source": []
  }
 ],
 "metadata": {
  "kernelspec": {
   "display_name": "Python 3.7 (Intel® oneAPI)",
   "language": "python",
   "name": "c009-intel_distribution_of_python_3_oneapi-beta05-python"
  },
  "language_info": {
   "codemirror_mode": {
    "name": "ipython",
    "version": 3
   },
   "file_extension": ".py",
   "mimetype": "text/x-python",
   "name": "python",
   "nbconvert_exporter": "python",
   "pygments_lexer": "ipython3",
   "version": "3.7.7"
  }
 },
 "nbformat": 4,
 "nbformat_minor": 4
}
